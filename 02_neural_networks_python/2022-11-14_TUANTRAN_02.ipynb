{
 "cells": [
  {
   "cell_type": "code",
   "execution_count": null,
   "id": "2c998ee8",
   "metadata": {},
   "outputs": [],
   "source": [
    "### Solution to 01 ###"
   ]
  },
  {
   "cell_type": "code",
   "execution_count": null,
   "id": "bd2a2e0a",
   "metadata": {},
   "outputs": [],
   "source": [
    "## 1st problem ###"
   ]
  },
  {
   "cell_type": "code",
   "execution_count": null,
   "id": "e1252253",
   "metadata": {},
   "outputs": [],
   "source": [
    "def accuracy(true_labels, predicted_labels):\n",
    "    N = predicted_labels.shape[0]\n",
    "    acc = (true_labels == predicted_labels).sum() / N\n",
    "    return acc\n",
    "\n",
    "def evaluate_accuracy(W, input_images, true_labels):\n",
    "    predicted_labels = numpy.round(linear_model(W, input_images)) \n",
    "    acc = accuracy(true_labels, predicted_labels) \n",
    "    return acc"
   ]
  },
  {
   "cell_type": "code",
   "execution_count": null,
   "id": "808cc202",
   "metadata": {},
   "outputs": [],
   "source": [
    "W = .01 * numpy.random.rand(num_features,1)\n",
    "\n",
    "losses = numpy.zeros(num_iters,)\n",
    "accuracies = numpy.zeros(num_iters,)\n",
    "\n",
    "for i in range(0, num_iters):\n",
    "    # all the magic here\n",
    "    W = learn(x_train_batch, y_train_batch, W, learning_rate)\n",
    "    losses[i] = evaluate(W, x_train_batch, y_train_batch)\n",
    "    accuracies[i] = evaluate_accuracy(W, x_train_batch, y_train_batch)"
   ]
  },
  {
   "cell_type": "code",
   "execution_count": null,
   "id": "39a8e5eb",
   "metadata": {},
   "outputs": [],
   "source": [
    "plt.figure()\n",
    "plt.subplot(2,1,1)\n",
    "plt.plot(losses)\n",
    "plt.subplot(2,1,2)\n",
    "plt.plot(accuracies)"
   ]
  },
  {
   "cell_type": "code",
   "execution_count": null,
   "id": "8a557a40",
   "metadata": {},
   "outputs": [],
   "source": [
    "## 2nd problem ###"
   ]
  },
  {
   "cell_type": "code",
   "execution_count": null,
   "id": "89f08165",
   "metadata": {},
   "outputs": [],
   "source": [
    "from sklearn.model_selection import train_test_split"
   ]
  },
  {
   "cell_type": "code",
   "execution_count": null,
   "id": "332a6886",
   "metadata": {},
   "outputs": [],
   "source": [
    "x_train2, x_val, y_train2, y_val = train_test_split(x_train, y_train, test_size=0.33, random_state=42)"
   ]
  },
  {
   "cell_type": "code",
   "execution_count": null,
   "id": "cb6873e4",
   "metadata": {},
   "outputs": [],
   "source": [
    "x_train_batch2 = x_train2[:batch_size, :]\n",
    "y_train_batch2 = y_train2[:batch_size,numpy.newaxis]\n",
    "x_val_batch = x_val[:batch_size, :]\n",
    "y_val_batch = y_val[:batch_size,numpy.newaxis]"
   ]
  },
  {
   "cell_type": "code",
   "execution_count": null,
   "id": "4041b5de",
   "metadata": {},
   "outputs": [],
   "source": [
    "W = .01 * numpy.random.rand(num_features,1)\n",
    "\n",
    "losses = numpy.zeros((num_iters,2)) \n",
    "accuracies = numpy.zeros((num_iters,2))\n",
    "\n",
    "for i in range(0, num_iters):\n",
    "    W = learn(x_train_batch2, y_train_batch2, W, learning_rate)\n",
    "    losses[i,0] = evaluate(W, x_train_batch, y_train_batch)\n",
    "    losses[i,1] = evaluate(W, x_val_batch, y_val_batch)\n",
    "    accuracies[i,0] = evaluate_accuracy(W, x_train_batch2, y_train_batch2)\n",
    "    accuracies[i,1] = evaluate_accuracy(W, x_val_batch, y_val_batch)"
   ]
  },
  {
   "cell_type": "code",
   "execution_count": null,
   "id": "8a6bc4d4",
   "metadata": {},
   "outputs": [],
   "source": [
    "plt.figure()\n",
    "plt.subplot(2,1,1)\n",
    "plt.plot(losses[:,0])\n",
    "plt.plot(losses[:,1])\n",
    "plt.legend([\"train\", \"val\"])\n",
    "\n",
    "plt.subplot(2,1,2)\n",
    "plt.plot(accuracies[:,0])\n",
    "plt.plot(accuracies[:,1])"
   ]
  },
  {
   "cell_type": "code",
   "execution_count": null,
   "id": "9df31c46",
   "metadata": {},
   "outputs": [],
   "source": [
    "### Solution to 02 ###"
   ]
  },
  {
   "cell_type": "code",
   "execution_count": null,
   "id": "a2b6bf77",
   "metadata": {},
   "outputs": [],
   "source": [
    "%load_ext autoreload\n",
    "%autoreload 2"
   ]
  },
  {
   "cell_type": "code",
   "execution_count": null,
   "id": "3de8a52c",
   "metadata": {},
   "outputs": [],
   "source": [
    "%matplotlib inline\n",
    "\n",
    "import tensorflow as tf\n",
    "\n",
    "import numpy\n",
    "import matplotlib.pyplot as plt"
   ]
  },
  {
   "cell_type": "code",
   "execution_count": null,
   "id": "e147d925",
   "metadata": {},
   "outputs": [],
   "source": [
    "from sklearn.model_selection import train_test_split"
   ]
  },
  {
   "cell_type": "code",
   "execution_count": null,
   "id": "b2699b1a",
   "metadata": {},
   "outputs": [],
   "source": [
    "# repeating the data prep from the previous notebook\n",
    "(x_train, y_train), (x_test, y_test) = tf.keras.datasets.mnist.load_data()\n",
    "# EDIT: splitting training data into train and val because this is better practice than using test data to\n",
    "# choose models/hyperparameters\n",
    "x_train, x_val, y_train, y_val = train_test_split(x_train, y_train, test_size=0.33, random_state=42)\n",
    "\n",
    "x_train = x_train.astype(numpy.float32)\n",
    "# EDIT: adding pre-processing to validation data \n",
    "x_val  = x_val.astype(numpy.float32)\n",
    "x_test  = x_test.astype(numpy.float32)\n",
    "\n",
    "x_train /= 255.\n",
    "x_val  /= 255.\n",
    "x_test  /= 255.\n",
    "\n",
    "print(x_train.shape)\n",
    "x_train = x_train.reshape(x_train.shape[0], numpy.prod(x_train[0,:,:].shape))\n",
    "x_val = x_val.reshape(x_val.shape[0], numpy.prod(x_val[0,:,:].shape))\n",
    "x_test = x_test.reshape(x_test.shape[0], numpy.prod(x_test[0,:,:].shape))\n",
    "\n",
    "print(x_train.shape)\n",
    "y_train = y_train.astype(numpy.int32)\n",
    "y_val  = y_val.astype(numpy.int32)\n",
    "y_test  = y_test.astype(numpy.int32)\n",
    "\n",
    "print()\n",
    "print('MNIST data loaded: train:',len(x_train),'val:',len(x_val), 'test:',len(x_test))\n",
    "print('X_train:', x_train.shape)\n",
    "print('y_train:', y_train.shape)\n",
    "\n",
    "# one-hot encoding:\n",
    "nb_classes = 10\n",
    "y_train_onehot = tf.keras.utils.to_categorical(y_train, nb_classes)\n",
    "y_val_onehot = tf.keras.utils.to_categorical(y_val, nb_classes)\n",
    "y_test_onehot = tf.keras.utils.to_categorical(y_test, nb_classes)"
   ]
  },
  {
   "cell_type": "code",
   "execution_count": null,
   "id": "c9469223",
   "metadata": {},
   "outputs": [],
   "source": [
    "from fc_net import TwoLayerNet"
   ]
  },
  {
   "cell_type": "code",
   "execution_count": null,
   "id": "52c53a06",
   "metadata": {},
   "outputs": [],
   "source": [
    "def sgd(model, gradients, learning_rate):\n",
    "    for p, w in model.params.items():\n",
    "        dw = gradients[p]\n",
    "        new_weights = w - learning_rate * dw\n",
    "        model.params[p] = new_weights"
   ]
  },
  {
   "cell_type": "code",
   "execution_count": null,
   "id": "95d5bcde",
   "metadata": {},
   "outputs": [],
   "source": [
    "def learn(model, x_train, y_train_onehot, learning_rate):\n",
    "    loss, gradients = model.loss(x_train, y_train_onehot)\n",
    "    sgd(model, gradients, learning_rate)\n",
    "    return loss"
   ]
  },
  {
   "cell_type": "code",
   "execution_count": null,
   "id": "6634ea3a",
   "metadata": {},
   "outputs": [],
   "source": [
    "def accuracy(model, x, true_values):\n",
    "    scores = model.loss(x)\n",
    "    predictions = numpy.argmax(scores, axis=1)\n",
    "    N = predictions.shape[0]\n",
    "    # EDIT: squeezing true_values from 2d to 1d speeds up this function\n",
    "    true_values_1d = numpy.squeeze(true_values)\n",
    "    acc = (true_values_1d == predictions).sum() / N\n",
    "    return acc"
   ]
  },
  {
   "cell_type": "code",
   "execution_count": null,
   "id": "f7be0c75",
   "metadata": {},
   "outputs": [],
   "source": [
    "import time"
   ]
  },
  {
   "cell_type": "code",
   "execution_count": null,
   "id": "bbe1bed6",
   "metadata": {},
   "outputs": [],
   "source": [
    "def training(learning_rate, batch_size, num_epochs, hidden_dim, weight_scale, x_train, y_train, y_train_onehot, x_val, y_val, y_val_onehot):\n",
    "    num_features = x_train.shape[1] # this is the number of pixels\n",
    "    nb_classes = y_train_onehot.shape[1]\n",
    "    \n",
    "    # The weights are initialized from a normal distribution with standard deviation weight_scale\n",
    "    model = TwoLayerNet(input_dim=num_features, hidden_dim=hidden_dim, num_classes=nb_classes, weight_scale=weight_scale)\n",
    "    \n",
    "    num_examples_train = x_train.shape[0]\n",
    "    num_batches_train = int(num_examples_train / batch_size)\n",
    "    \n",
    "    losses = numpy.zeros((num_batches_train*num_epochs,2)) # 1st column for training data, 2nd for validation data\n",
    "    # EDIT: also track accuracy\n",
    "    accuracies = numpy.zeros((num_batches_train*num_epochs,2)) \n",
    "    \n",
    "    indices_train = numpy.arange(num_examples_train)\n",
    "    num_examples_val = x_val.shape[0]\n",
    "    indices_val = numpy.arange(num_examples_val)\n",
    "\n",
    "    i = 0\n",
    "    for epoch in range(0, num_epochs):\n",
    "        start_epoch = time.time()\n",
    "        # in each epoch, we loop over all of the training examples\n",
    "        for step in range(0, num_batches_train):\n",
    "            # grabbing the next training batch\n",
    "            offset_train = step * batch_size\n",
    "            batch_range_train = range(offset_train, offset_train+batch_size)\n",
    "            x_train_batch = x_train[batch_range_train, :]\n",
    "            # EDIT: keep around non-onehot labels as well for accuracy calculation\n",
    "            y_train_onehot_batch = y_train_onehot[batch_range_train,:]\n",
    "            y_train_batch = y_train[batch_range_train,numpy.newaxis]\n",
    "\n",
    "            # one approach: grab a random validation batch (random offset into number of validation examples)\n",
    "            offset_val = numpy.random.randint(low=0, high=num_examples_val-batch_size)\n",
    "            batch_range_val = range(offset_val, offset_val+batch_size)\n",
    "            x_val_batch = x_val[batch_range_val, :]\n",
    "            y_val_onehot_batch = y_val_onehot[batch_range_val,:]\n",
    "            y_val_batch = y_val[batch_range_val,numpy.newaxis]\n",
    "\n",
    "            # feed the next batch in to do one sgd step\n",
    "            loss_train = learn(model, x_train_batch, y_train_onehot_batch, learning_rate)\n",
    "\n",
    "            # check training & validation loss & accuracy\n",
    "            losses[i,0] = loss_train\n",
    "            \n",
    "            # could save time by commenting out the next three lines and only tracking at the epoch level\n",
    "            accuracies[i,0] = accuracy(model, x_train_batch, y_train_batch)\n",
    "            losses[i,1], _ = model.loss(x_val_batch, y_val_onehot_batch)\n",
    "            accuracies[i,1] = accuracy(model, x_val_batch, y_val_batch)\n",
    "            i += 1\n",
    "\n",
    "        # slower, so we're only doing this once per epoch: checking accuracy on all of the data at once\n",
    "        acc_train = accuracy(model, x_train, y_train)\n",
    "        acc_val = accuracy(model, x_val, y_val)\n",
    "        \n",
    "        # reshuffle the data so that we get a new set of batches\n",
    "        numpy.random.shuffle(indices_train)\n",
    "        x_train = x_train[indices_train,:]\n",
    "        y_train = y_train[indices_train] # keep this shuffled the same way for use in accuracy calculation\n",
    "        y_train_onehot = y_train_onehot[indices_train,:]\n",
    "\n",
    "        numpy.random.shuffle(indices_val)\n",
    "        x_val = x_val[indices_val,:]\n",
    "        y_val = y_val[indices_val] \n",
    "        y_val_onehot = y_val_onehot[indices_val,:]\n",
    "        end_epoch = time.time()\n",
    "        time_this_epoch = end_epoch - start_epoch\n",
    "        print(\"epoch %d took %.1f seconds, training loss %.5f (last batch), training accuracy %.3f, validation accuracy %.3f\" % (epoch, time_this_epoch, loss_train, acc_train, acc_val))\n",
    "    return losses, accuracies, model"
   ]
  },
  {
   "cell_type": "code",
   "execution_count": null,
   "id": "3e55e117",
   "metadata": {},
   "outputs": [],
   "source": [
    "learning_rate = 0.01  \n",
    "batch_size = 10000\n",
    "num_epochs = 10\n",
    "hidden_dim = 300\n",
    "weight_scale = .01\n",
    "losses, accuracies, model = training(learning_rate, batch_size, num_epochs, hidden_dim, weight_scale, x_train, y_train, y_train_onehot, x_val, y_val, y_val_onehot)\n",
    "\n",
    "# EDIT: plot training & val, loss & accuracy\n",
    "plt.figure()\n",
    "plt.subplot(2,1,1)\n",
    "plt.plot(losses[:,0])\n",
    "plt.plot(losses[:,1])\n",
    "plt.legend([\"train\", \"val\"])\n",
    "\n",
    "plt.subplot(2,1,2)\n",
    "plt.plot(accuracies[:,0])\n",
    "plt.plot(accuracies[:,1])"
   ]
  },
  {
   "cell_type": "code",
   "execution_count": null,
   "id": "88994fb6",
   "metadata": {},
   "outputs": [],
   "source": [
    "learning_rate = 0.1  \n",
    "batch_size = 1200\n",
    "num_epochs = 25\n",
    "hidden_dim = 1600\n",
    "# Try Xavier initialization, although need to use same scaling for both layers, so averaging\n",
    "# https://keras.io/api/layers/initializers/\n",
    "size_input = x_train.shape[1]\n",
    "weight_scale1 = numpy.sqrt(2./(size_input+hidden_dim))\n",
    "weight_scale2 = numpy.sqrt(2./(hidden_dim+nb_classes))\n",
    "weight_scale = (weight_scale1 + weight_scale2)/2\n",
    "print(weight_scale)\n",
    "losses, accuracies, model = training(learning_rate, batch_size, num_epochs, hidden_dim, weight_scale, x_train, y_train, y_train_onehot, x_val, y_val, y_val_onehot)\n",
    "\n",
    "plt.figure()\n",
    "plt.subplot(2,1,1)\n",
    "plt.plot(losses[:,0])\n",
    "plt.plot(losses[:,1])\n",
    "plt.legend([\"train\", \"val\"])\n",
    "\n",
    "plt.subplot(2,1,2)\n",
    "plt.plot(accuracies[:,0])\n",
    "plt.plot(accuracies[:,1])"
   ]
  }
 ],
 "metadata": {
  "kernelspec": {
   "display_name": "Python 3 (ipykernel)",
   "language": "python",
   "name": "python3"
  },
  "language_info": {
   "codemirror_mode": {
    "name": "ipython",
    "version": 3
   },
   "file_extension": ".py",
   "mimetype": "text/x-python",
   "name": "python",
   "nbconvert_exporter": "python",
   "pygments_lexer": "ipython3",
   "version": "3.9.7"
  }
 },
 "nbformat": 4,
 "nbformat_minor": 5
}
